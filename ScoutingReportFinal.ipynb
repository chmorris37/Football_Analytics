{
 "cells": [
  {
   "cell_type": "code",
   "execution_count": 93,
   "id": "64817eb5-afc4-4258-9177-0d2cbf466f3e",
   "metadata": {},
   "outputs": [],
   "source": [
    "import pandas as pd\n",
    "from sklearn.preprocessing import StandardScaler\n",
    "import numpy as np\n",
    "import matplotlib.pyplot as plt\n",
    "import seaborn as sns\n",
    "import scipy.sparse as sp\n",
    "from scipy.sparse import hstack, csr_matrix\n",
    "from sklearn.linear_model import RidgeCV\n",
    "from sklearn.preprocessing import PolynomialFeatures\n",
    "from sklearn.pipeline import make_pipeline\n",
    "from sklearn.metrics import confusion_matrix, roc_curve, roc_auc_score, f1_score, accuracy_score, classification_report, precision_recall_curve\n",
    "from sklearn.metrics import mean_squared_error, r2_score\n",
    "from nltk.corpus import stopwords\n",
    "from nltk import pos_tag\n",
    "from nltk.tokenize import word_tokenize\n",
    "from nltk.tokenize import word_tokenize\n",
    "from scipy.sparse import hstack\n",
    "from nltk.stem import WordNetLemmatizer\n",
    "from gensim.models import Word2Vec\n",
    "from sklearn.model_selection import train_test_split\n",
    "from vaderSentiment.vaderSentiment import SentimentIntensityAnalyzer\n",
    "from sklearn.linear_model import LogisticRegression\n",
    "from sklearn.feature_extraction.text import TfidfVectorizer\n",
    "from sklearn.model_selection import GridSearchCV, cross_val_score\n",
    "from sklearn.metrics import make_scorer\n",
    "from sklearn.dummy import DummyClassifier\n",
    "from sklearn.dummy import DummyRegressor"
   ]
  },
  {
   "cell_type": "code",
   "execution_count": 94,
   "id": "d66d0895-9764-4680-a6d2-53c29aa40d4a",
   "metadata": {},
   "outputs": [
    {
     "data": {
      "text/html": [
       "<div>\n",
       "<style scoped>\n",
       "    .dataframe tbody tr th:only-of-type {\n",
       "        vertical-align: middle;\n",
       "    }\n",
       "\n",
       "    .dataframe tbody tr th {\n",
       "        vertical-align: top;\n",
       "    }\n",
       "\n",
       "    .dataframe thead th {\n",
       "        text-align: right;\n",
       "    }\n",
       "</style>\n",
       "<table border=\"1\" class=\"dataframe\">\n",
       "  <thead>\n",
       "    <tr style=\"text-align: right;\">\n",
       "      <th></th>\n",
       "      <th>Player</th>\n",
       "      <th>Player Bio</th>\n",
       "      <th>Player Grades</th>\n",
       "      <th>Draft Class</th>\n",
       "      <th>Link</th>\n",
       "    </tr>\n",
       "  </thead>\n",
       "  <tbody>\n",
       "    <tr>\n",
       "      <th>0</th>\n",
       "      <td>Jadeveon Clowney</td>\n",
       "      <td>A physical specimen with a rare size-speed com...</td>\n",
       "      <td>7.50</td>\n",
       "      <td>2014</td>\n",
       "      <td>https://www.nfl.com/prospects/jadeveon-clowney...</td>\n",
       "    </tr>\n",
       "    <tr>\n",
       "      <th>1</th>\n",
       "      <td>Sammy Watkins</td>\n",
       "      <td>A legitimate No. 1-caliber receiver who steppe...</td>\n",
       "      <td>7.10</td>\n",
       "      <td>2014</td>\n",
       "      <td>https://www.nfl.com/prospects/sammy-watkins/32...</td>\n",
       "    </tr>\n",
       "    <tr>\n",
       "      <th>2</th>\n",
       "      <td>Anthony Barr</td>\n",
       "      <td>A highly disruptive, athletic specimen with th...</td>\n",
       "      <td>7.00</td>\n",
       "      <td>2014</td>\n",
       "      <td>https://www.nfl.com/prospects/anthony-barr/320...</td>\n",
       "    </tr>\n",
       "    <tr>\n",
       "      <th>3</th>\n",
       "      <td>Khalil Mack</td>\n",
       "      <td>A havoc-wreaking rush linebacker with the burs...</td>\n",
       "      <td>7.00</td>\n",
       "      <td>2014</td>\n",
       "      <td>https://www.nfl.com/prospects/khalil-mack/3200...</td>\n",
       "    </tr>\n",
       "    <tr>\n",
       "      <th>4</th>\n",
       "      <td>Jake Matthews</td>\n",
       "      <td>Smart, tough, versatile franchise left tackle ...</td>\n",
       "      <td>7.00</td>\n",
       "      <td>2014</td>\n",
       "      <td>https://www.nfl.com/prospects/jake-matthews/32...</td>\n",
       "    </tr>\n",
       "    <tr>\n",
       "      <th>...</th>\n",
       "      <td>...</td>\n",
       "      <td>...</td>\n",
       "      <td>...</td>\n",
       "      <td>...</td>\n",
       "      <td>...</td>\n",
       "    </tr>\n",
       "    <tr>\n",
       "      <th>4377</th>\n",
       "      <td>Zeke Vandenburgh</td>\n",
       "      <td>It might be easy to discount Vandenburgh‚Äôs p...</td>\n",
       "      <td>5.82</td>\n",
       "      <td>2023</td>\n",
       "      <td>https://www.nfl.com/prospects/zeke-vandenburgh...</td>\n",
       "    </tr>\n",
       "    <tr>\n",
       "      <th>4378</th>\n",
       "      <td>Ben VanSumeren</td>\n",
       "      <td>VanSumeren‚Äôs production and game tape won‚Äô...</td>\n",
       "      <td>5.66</td>\n",
       "      <td>2023</td>\n",
       "      <td>https://www.nfl.com/prospects/ben-vansumeren/3...</td>\n",
       "    </tr>\n",
       "    <tr>\n",
       "      <th>4379</th>\n",
       "      <td>Taron Vincent</td>\n",
       "      <td>Vincent is smallish for the interior and lacks...</td>\n",
       "      <td>5.59</td>\n",
       "      <td>2023</td>\n",
       "      <td>https://www.nfl.com/prospects/taron-vincent/32...</td>\n",
       "    </tr>\n",
       "    <tr>\n",
       "      <th>4380</th>\n",
       "      <td>BJ Wilson</td>\n",
       "      <td>A tackle prospect with NFL measurables, Wilson...</td>\n",
       "      <td>5.64</td>\n",
       "      <td>2023</td>\n",
       "      <td>https://www.nfl.com/prospects/bj-wilson/320057...</td>\n",
       "    </tr>\n",
       "    <tr>\n",
       "      <th>4381</th>\n",
       "      <td>Jake Witt</td>\n",
       "      <td>Witt‚Äôs athletic testing was off the charts a...</td>\n",
       "      <td>5.80</td>\n",
       "      <td>2023</td>\n",
       "      <td>https://www.nfl.com/prospects/jake-witt/320057...</td>\n",
       "    </tr>\n",
       "  </tbody>\n",
       "</table>\n",
       "<p>4382 rows × 5 columns</p>\n",
       "</div>"
      ],
      "text/plain": [
       "                Player                                         Player Bio  \\\n",
       "0     Jadeveon Clowney  A physical specimen with a rare size-speed com...   \n",
       "1        Sammy Watkins  A legitimate No. 1-caliber receiver who steppe...   \n",
       "2         Anthony Barr  A highly disruptive, athletic specimen with th...   \n",
       "3          Khalil Mack  A havoc-wreaking rush linebacker with the burs...   \n",
       "4        Jake Matthews  Smart, tough, versatile franchise left tackle ...   \n",
       "...                ...                                                ...   \n",
       "4377  Zeke Vandenburgh  It might be easy to discount Vandenburgh‚Äôs p...   \n",
       "4378    Ben VanSumeren  VanSumeren‚Äôs production and game tape won‚Äô...   \n",
       "4379     Taron Vincent  Vincent is smallish for the interior and lacks...   \n",
       "4380         BJ Wilson  A tackle prospect with NFL measurables, Wilson...   \n",
       "4381         Jake Witt  Witt‚Äôs athletic testing was off the charts a...   \n",
       "\n",
       "      Player Grades  Draft Class  \\\n",
       "0              7.50         2014   \n",
       "1              7.10         2014   \n",
       "2              7.00         2014   \n",
       "3              7.00         2014   \n",
       "4              7.00         2014   \n",
       "...             ...          ...   \n",
       "4377           5.82         2023   \n",
       "4378           5.66         2023   \n",
       "4379           5.59         2023   \n",
       "4380           5.64         2023   \n",
       "4381           5.80         2023   \n",
       "\n",
       "                                                   Link  \n",
       "0     https://www.nfl.com/prospects/jadeveon-clowney...  \n",
       "1     https://www.nfl.com/prospects/sammy-watkins/32...  \n",
       "2     https://www.nfl.com/prospects/anthony-barr/320...  \n",
       "3     https://www.nfl.com/prospects/khalil-mack/3200...  \n",
       "4     https://www.nfl.com/prospects/jake-matthews/32...  \n",
       "...                                                 ...  \n",
       "4377  https://www.nfl.com/prospects/zeke-vandenburgh...  \n",
       "4378  https://www.nfl.com/prospects/ben-vansumeren/3...  \n",
       "4379  https://www.nfl.com/prospects/taron-vincent/32...  \n",
       "4380  https://www.nfl.com/prospects/bj-wilson/320057...  \n",
       "4381  https://www.nfl.com/prospects/jake-witt/320057...  \n",
       "\n",
       "[4382 rows x 5 columns]"
      ]
     },
     "execution_count": 94,
     "metadata": {},
     "output_type": "execute_result"
    }
   ],
   "source": [
    "df = pd.read_csv('draftProspects.csv')\n",
    "picks = pd.read_parquet(\"draft_picks.parquet\")\n",
    "df"
   ]
  },
  {
   "cell_type": "code",
   "execution_count": 95,
   "id": "998821cd-5887-4335-8bf3-e7ca6a616ea1",
   "metadata": {},
   "outputs": [
    {
     "data": {
      "text/plain": [
       "'A physical specimen with a rare size-speed combination, Clowney was not as impactful as a junior while playing through injuries and being forced to deal with opposing offenses that fully accounted for him with extra chip protection. Was a 20-year-old junior affected by turnover on the defensive coaching staff. Could benefit tremendously from a stable positional coach and strong, veteran mentor on the defensive line who will hold him accountable, show him the way and serve as a fatherly figure. Is one of the most unique talents in the draft and could easily be a double-digit sack producer in the pros from either end. Is every bit worthy of the first overall pick -- will immediately upgrade a defensive line and improve the production of those around him.'"
      ]
     },
     "execution_count": 95,
     "metadata": {},
     "output_type": "execute_result"
    }
   ],
   "source": [
    "# Example of a full player Bio\n",
    "df[\"Player Bio\"][0]"
   ]
  },
  {
   "cell_type": "code",
   "execution_count": 96,
   "id": "0538afec-11cd-4e88-bd2e-f234238ed495",
   "metadata": {},
   "outputs": [],
   "source": [
    "#take log length of bio and normalize it\n",
    "df['bioLength'] = df[\"Player Bio\"].apply(lambda x: np.log(len(str(x))))\n",
    "bio_length = df['bioLength'].values.reshape(-1, 1)\n",
    "scaler = StandardScaler()\n",
    "bio_length_normalized = scaler.fit_transform(bio_length)\n",
    "df['bio_length_normalized'] = bio_length_normalized"
   ]
  },
  {
   "cell_type": "code",
   "execution_count": 97,
   "id": "0606061e-d25e-417f-888e-6ecac5c2872d",
   "metadata": {},
   "outputs": [],
   "source": [
    "# Function to convert POS tags to WordNet POS tags\n",
    "def get_wordnet_pos(tag):\n",
    "    if tag.startswith('J'):\n",
    "        return 'a'  # Adjective\n",
    "    elif tag.startswith('V'):\n",
    "        return 'v'  # Verb\n",
    "    elif tag.startswith('N'):\n",
    "        return 'n'  # Noun\n",
    "    elif tag.startswith('R'):\n",
    "        return 'r'  # Adverb\n",
    "    else:\n",
    "        return 'n'  # Default to noun if not found"
   ]
  },
  {
   "cell_type": "code",
   "execution_count": 98,
   "id": "4216d09d-9c13-4550-be2c-00baef76137e",
   "metadata": {},
   "outputs": [],
   "source": [
    "#How to Preprocess the words\n",
    "stop_words = set(stopwords.words('english'))\n",
    "lemmatizer = WordNetLemmatizer()\n",
    "def preprocess(bio):\n",
    "    tokenized_text = word_tokenize(bio) #tokenize\n",
    "    tokenized_text = [w.lower() for w in tokenized_text] #lowercase\n",
    "    tokenized_text = [w for w in tokenized_text if not w in stop_words] #remove stop words\n",
    "    pos_tags = pos_tag(tokenized_text) #Need to pass in part of speech\n",
    "    tokenized_text = [lemmatizer.lemmatize(word, pos=get_wordnet_pos(tag)) for word, tag in pos_tags] #lemmatize\n",
    "    return \" \".join(tokenized_text)\n",
    "\n",
    "df[\"Preprocessed Bio\"] = df['Player Bio'].apply(preprocess)"
   ]
  },
  {
   "cell_type": "code",
   "execution_count": 99,
   "id": "2159f98c-0e14-460b-954d-2a592a3049db",
   "metadata": {},
   "outputs": [],
   "source": [
    "#Sentiment analysis\n",
    "analyzer = SentimentIntensityAnalyzer()\n",
    "sentiments = []\n",
    "for text in df['Player Bio']: \n",
    "    sentiment_score = analyzer.polarity_scores(text)\n",
    "    sentiments.append(sentiment_score['compound'])\n",
    "sentiments = np.array(sentiments)\n",
    "df[\"sentiments\"] = sentiments\n",
    "\n",
    "#convert it to numeric values\n",
    "df['Player Grades'] = df['Player Grades'].astype(float)\n",
    "player_grades = df['Player Grades']"
   ]
  },
  {
   "cell_type": "code",
   "execution_count": 100,
   "id": "5eef954f-1b1f-4853-a77c-31e7bc071d4b",
   "metadata": {},
   "outputs": [
    {
     "data": {
      "text/html": [
       "<div>\n",
       "<style scoped>\n",
       "    .dataframe tbody tr th:only-of-type {\n",
       "        vertical-align: middle;\n",
       "    }\n",
       "\n",
       "    .dataframe tbody tr th {\n",
       "        vertical-align: top;\n",
       "    }\n",
       "\n",
       "    .dataframe thead th {\n",
       "        text-align: right;\n",
       "    }\n",
       "</style>\n",
       "<table border=\"1\" class=\"dataframe\">\n",
       "  <thead>\n",
       "    <tr style=\"text-align: right;\">\n",
       "      <th></th>\n",
       "      <th>bio_length_normalized</th>\n",
       "      <th>Player Grades</th>\n",
       "      <th>sentiments</th>\n",
       "    </tr>\n",
       "  </thead>\n",
       "  <tbody>\n",
       "    <tr>\n",
       "      <th>bio_length_normalized</th>\n",
       "      <td>1.000000</td>\n",
       "      <td>0.209531</td>\n",
       "      <td>-0.018603</td>\n",
       "    </tr>\n",
       "    <tr>\n",
       "      <th>Player Grades</th>\n",
       "      <td>0.209531</td>\n",
       "      <td>1.000000</td>\n",
       "      <td>0.102724</td>\n",
       "    </tr>\n",
       "    <tr>\n",
       "      <th>sentiments</th>\n",
       "      <td>-0.018603</td>\n",
       "      <td>0.102724</td>\n",
       "      <td>1.000000</td>\n",
       "    </tr>\n",
       "  </tbody>\n",
       "</table>\n",
       "</div>"
      ],
      "text/plain": [
       "                       bio_length_normalized  Player Grades  sentiments\n",
       "bio_length_normalized               1.000000       0.209531   -0.018603\n",
       "Player Grades                       0.209531       1.000000    0.102724\n",
       "sentiments                         -0.018603       0.102724    1.000000"
      ]
     },
     "execution_count": 100,
     "metadata": {},
     "output_type": "execute_result"
    }
   ],
   "source": [
    "#Find correlations\n",
    "df[[\"bio_length_normalized\", \"Player Grades\", \"sentiments\"]].corr()"
   ]
  },
  {
   "cell_type": "code",
   "execution_count": 101,
   "id": "7b197bc4-3fc6-4d6b-a2d0-d886482faa3a",
   "metadata": {},
   "outputs": [
    {
     "data": {
      "text/html": [
       "<div>\n",
       "<style scoped>\n",
       "    .dataframe tbody tr th:only-of-type {\n",
       "        vertical-align: middle;\n",
       "    }\n",
       "\n",
       "    .dataframe tbody tr th {\n",
       "        vertical-align: top;\n",
       "    }\n",
       "\n",
       "    .dataframe thead th {\n",
       "        text-align: right;\n",
       "    }\n",
       "</style>\n",
       "<table border=\"1\" class=\"dataframe\">\n",
       "  <thead>\n",
       "    <tr style=\"text-align: right;\">\n",
       "      <th></th>\n",
       "      <th>Preprocessed Bio</th>\n",
       "      <th>bio_length_normalized</th>\n",
       "      <th>sentiments</th>\n",
       "      <th>Player</th>\n",
       "      <th>Draft Class</th>\n",
       "    </tr>\n",
       "  </thead>\n",
       "  <tbody>\n",
       "    <tr>\n",
       "      <th>0</th>\n",
       "      <td>physical specimen rare size-speed combination ...</td>\n",
       "      <td>0.307687</td>\n",
       "      <td>0.9354</td>\n",
       "      <td>Jadeveon Clowney</td>\n",
       "      <td>2014</td>\n",
       "    </tr>\n",
       "    <tr>\n",
       "      <th>1</th>\n",
       "      <td>legitimate . 1-caliber receiver step onto fiel...</td>\n",
       "      <td>-0.937056</td>\n",
       "      <td>0.8625</td>\n",
       "      <td>Sammy Watkins</td>\n",
       "      <td>2014</td>\n",
       "    </tr>\n",
       "    <tr>\n",
       "      <th>2</th>\n",
       "      <td>highly disruptive , athletic specimen pass-rus...</td>\n",
       "      <td>-0.645786</td>\n",
       "      <td>0.0627</td>\n",
       "      <td>Anthony Barr</td>\n",
       "      <td>2014</td>\n",
       "    </tr>\n",
       "    <tr>\n",
       "      <th>3</th>\n",
       "      <td>havoc-wreaking rush linebacker burst accelerat...</td>\n",
       "      <td>-0.425757</td>\n",
       "      <td>0.6124</td>\n",
       "      <td>Khalil Mack</td>\n",
       "      <td>2014</td>\n",
       "    </tr>\n",
       "    <tr>\n",
       "      <th>4</th>\n",
       "      <td>smart , tough , versatile franchise leave tack...</td>\n",
       "      <td>-1.633452</td>\n",
       "      <td>0.9313</td>\n",
       "      <td>Jake Matthews</td>\n",
       "      <td>2014</td>\n",
       "    </tr>\n",
       "    <tr>\n",
       "      <th>...</th>\n",
       "      <td>...</td>\n",
       "      <td>...</td>\n",
       "      <td>...</td>\n",
       "      <td>...</td>\n",
       "      <td>...</td>\n",
       "    </tr>\n",
       "    <tr>\n",
       "      <th>4377</th>\n",
       "      <td>might easy discount vandenburgh‚äôs production...</td>\n",
       "      <td>-0.414645</td>\n",
       "      <td>0.9516</td>\n",
       "      <td>Zeke Vandenburgh</td>\n",
       "      <td>2023</td>\n",
       "    </tr>\n",
       "    <tr>\n",
       "      <th>4378</th>\n",
       "      <td>vansumeren‚äôs production game tape won‚äôt dr...</td>\n",
       "      <td>-0.662501</td>\n",
       "      <td>0.9161</td>\n",
       "      <td>Ben VanSumeren</td>\n",
       "      <td>2023</td>\n",
       "    </tr>\n",
       "    <tr>\n",
       "      <th>4379</th>\n",
       "      <td>vincent smallish interior lack ideal length , ...</td>\n",
       "      <td>-1.884458</td>\n",
       "      <td>0.5023</td>\n",
       "      <td>Taron Vincent</td>\n",
       "      <td>2023</td>\n",
       "    </tr>\n",
       "    <tr>\n",
       "      <th>4380</th>\n",
       "      <td>tackle prospect nfl measurables , wilson lack ...</td>\n",
       "      <td>-0.748307</td>\n",
       "      <td>0.1768</td>\n",
       "      <td>BJ Wilson</td>\n",
       "      <td>2023</td>\n",
       "    </tr>\n",
       "    <tr>\n",
       "      <th>4381</th>\n",
       "      <td>witt‚äôs athletic testing chart help team reco...</td>\n",
       "      <td>-0.392612</td>\n",
       "      <td>0.8071</td>\n",
       "      <td>Jake Witt</td>\n",
       "      <td>2023</td>\n",
       "    </tr>\n",
       "  </tbody>\n",
       "</table>\n",
       "<p>4382 rows × 5 columns</p>\n",
       "</div>"
      ],
      "text/plain": [
       "                                       Preprocessed Bio  \\\n",
       "0     physical specimen rare size-speed combination ...   \n",
       "1     legitimate . 1-caliber receiver step onto fiel...   \n",
       "2     highly disruptive , athletic specimen pass-rus...   \n",
       "3     havoc-wreaking rush linebacker burst accelerat...   \n",
       "4     smart , tough , versatile franchise leave tack...   \n",
       "...                                                 ...   \n",
       "4377  might easy discount vandenburgh‚äôs production...   \n",
       "4378  vansumeren‚äôs production game tape won‚äôt dr...   \n",
       "4379  vincent smallish interior lack ideal length , ...   \n",
       "4380  tackle prospect nfl measurables , wilson lack ...   \n",
       "4381  witt‚äôs athletic testing chart help team reco...   \n",
       "\n",
       "      bio_length_normalized  sentiments            Player  Draft Class  \n",
       "0                  0.307687      0.9354  Jadeveon Clowney         2014  \n",
       "1                 -0.937056      0.8625     Sammy Watkins         2014  \n",
       "2                 -0.645786      0.0627      Anthony Barr         2014  \n",
       "3                 -0.425757      0.6124       Khalil Mack         2014  \n",
       "4                 -1.633452      0.9313     Jake Matthews         2014  \n",
       "...                     ...         ...               ...          ...  \n",
       "4377              -0.414645      0.9516  Zeke Vandenburgh         2023  \n",
       "4378              -0.662501      0.9161    Ben VanSumeren         2023  \n",
       "4379              -1.884458      0.5023     Taron Vincent         2023  \n",
       "4380              -0.748307      0.1768         BJ Wilson         2023  \n",
       "4381              -0.392612      0.8071         Jake Witt         2023  \n",
       "\n",
       "[4382 rows x 5 columns]"
      ]
     },
     "execution_count": 101,
     "metadata": {},
     "output_type": "execute_result"
    }
   ],
   "source": [
    "grades = df['Player Grades']\n",
    "df = df[[\"Preprocessed Bio\", \"bio_length_normalized\", \"sentiments\", \"Player\", \"Draft Class\"]] #only keep important ones for now in terms of X\n",
    "df #Updated df"
   ]
  },
  {
   "cell_type": "markdown",
   "id": "6b36a3e6-c889-4106-997e-00326480cdc0",
   "metadata": {},
   "source": [
    "## Predict Player Grades"
   ]
  },
  {
   "cell_type": "code",
   "execution_count": 102,
   "id": "436c0fd1-0491-4ab3-98d5-484962813f4b",
   "metadata": {},
   "outputs": [],
   "source": [
    "#Split data\n",
    "X = df.drop(columns=[\"Player\", \"Draft Class\"])\n",
    "\n",
    "X_train, X_test, y_train, y_test = train_test_split(X, player_grades, test_size=0.2, random_state=42)"
   ]
  },
  {
   "cell_type": "code",
   "execution_count": 103,
   "id": "025bd0d8-c72a-470c-9b97-b23fbee60c57",
   "metadata": {},
   "outputs": [],
   "source": [
    "def extract_features(preprocessed_text_train, preprocessed_text_test,ngram_range=(1,2)):\n",
    "    #Use Tfidf\n",
    "    vectorizer=TfidfVectorizer(ngram_range=ngram_range) \n",
    "    train_features=vectorizer.fit_transform(preprocessed_text_train)\n",
    "    test_features =vectorizer.transform(preprocessed_text_test)\n",
    "    \n",
    "    return train_features, test_features"
   ]
  },
  {
   "cell_type": "code",
   "execution_count": 104,
   "id": "b2d92e12-4d2f-44e1-91e7-c03515ab90c5",
   "metadata": {},
   "outputs": [],
   "source": [
    "#run tfidf\n",
    "train_features, test_features = extract_features(X_train['Preprocessed Bio'], X_test['Preprocessed Bio'])"
   ]
  },
  {
   "cell_type": "code",
   "execution_count": 105,
   "id": "566a9748-d93a-40a6-938a-cad14ddb2d96",
   "metadata": {},
   "outputs": [],
   "source": [
    "X_train = X_train.drop(columns=[\"Preprocessed Bio\"])\n",
    "X_test = X_test.drop(columns=[\"Preprocessed Bio\"])"
   ]
  },
  {
   "cell_type": "code",
   "execution_count": 106,
   "id": "feec7f9d-fb0f-4e7b-bc7f-d70ee2a3da2e",
   "metadata": {},
   "outputs": [],
   "source": [
    "X_train_df_sparse = csr_matrix(X_train.values)\n",
    "X_test_df_sparse = csr_matrix(X_test.values)\n",
    "\n",
    "#Combine them all now using hstack\n",
    "X_train = hstack([train_features, X_train_df_sparse])\n",
    "X_test = hstack([test_features, X_test_df_sparse])"
   ]
  },
  {
   "cell_type": "code",
   "execution_count": 107,
   "id": "0d7283f4-00c9-42bf-8195-2cc7906e8cf3",
   "metadata": {},
   "outputs": [
    {
     "name": "stdout",
     "output_type": "stream",
     "text": [
      "Optimal Alpha from Cross-Validation: 0.1\n"
     ]
    },
    {
     "data": {
      "image/png": "[encoded data removed]",
      "text/plain": [
       "<Figure size 432x288 with 1 Axes>"
      ]
     },
     "metadata": {
      "needs_background": "light"
     },
     "output_type": "display_data"
    },
    {
     "data": {
      "image/png": "[encoded data removed]",
      "text/plain": [
       "<Figure size 432x288 with 1 Axes>"
      ]
     },
     "metadata": {
      "needs_background": "light"
     },
     "output_type": "display_data"
    },
    {
     "name": "stdout",
     "output_type": "stream",
     "text": [
      "Root Mean Squared Error: 0.3264245182580533\n",
      "R^2 score: 0.334398769820372\n"
     ]
    }
   ],
   "source": [
    "# Create a RidgeCV model\n",
    "ridge_cv = RidgeCV(alphas=[0.05, 0.1, 1.0, 10.0])\n",
    "ridge_cv.fit(X_train, y_train)\n",
    "\n",
    "# Get the optimal alpha value from cross-validation\n",
    "optimal_alpha = ridge_cv.alpha_\n",
    "\n",
    "# Make predictions on the test set with the RidgeCV model\n",
    "y_pred_ridge_cv = ridge_cv.predict(X_test)\n",
    "\n",
    "# Evaluate the RidgeCV model\n",
    "mse_ridge_cv = mean_squared_error(y_test, y_pred_ridge_cv)\n",
    "rmse_ridge_cv = mse_ridge_cv ** 0.5\n",
    "r2_ridge = r2_score(y_test, y_pred_ridge_cv)\n",
    "\n",
    "print(\"Optimal Alpha from Cross-Validation:\", optimal_alpha)\n",
    "plt.scatter(y_test, y_pred_ridge_cv)\n",
    "plt.xlabel(\"Actual Values\")\n",
    "plt.ylabel(\"Predicted Values\")\n",
    "plt.title(\"Actual vs Predicted Values\")\n",
    "plt.show()\n",
    "\n",
    "# Analyze residuals\n",
    "residuals = y_test - y_pred_ridge_cv\n",
    "\n",
    "# Plot residuals\n",
    "plt.scatter(y_pred_ridge_cv, residuals)\n",
    "plt.xlabel(\"Predicted Values\")\n",
    "plt.ylabel(\"Residuals\")\n",
    "plt.title(\"Residuals vs Predicted Values\")\n",
    "plt.axhline(y=0, color='r', linestyle='--')  # Add a horizontal line at y=0\n",
    "plt.show()\n",
    "\n",
    "# Other statistics and plot\n",
    "print(\"Root Mean Squared Error:\", rmse_ridge_cv)\n",
    "print(\"R^2 score:\", r2_ridge)"
   ]
  },
  {
   "cell_type": "code",
   "execution_count": 108,
   "id": "a82e0ac4-62f5-4bcb-bae7-6725ebda09c9",
   "metadata": {},
   "outputs": [
    {
     "name": "stdout",
     "output_type": "stream",
     "text": [
      "Root Mean Squared Error (Dummy): 0.4002309766417712\n"
     ]
    }
   ],
   "source": [
    "#Compared to dummy regressor\n",
    "dummy_regressor = DummyRegressor(strategy='median') #better than median\n",
    "\n",
    "# Fit the dummy regressor to the training data\n",
    "dummy_regressor.fit(X_train, y_train)\n",
    "\n",
    "# Make predictions on the test set\n",
    "y_pred_dummy = dummy_regressor.predict(X_test)\n",
    "\n",
    "# Evaluate the dummy regressor\n",
    "mse_dummy = mean_squared_error(y_test, y_pred_dummy)\n",
    "r2_dummy = r2_score(y_test, y_pred_dummy)\n",
    "\n",
    "print(\"Root Mean Squared Error (Dummy):\", mse_dummy ** 0.5)"
   ]
  },
  {
   "cell_type": "markdown",
   "id": "2cc6d2ad-382b-4637-bc2a-b50104b88458",
   "metadata": {},
   "source": [
    "# Predict Draft Round"
   ]
  },
  {
   "cell_type": "code",
   "execution_count": 109,
   "id": "24d6bd75-43bc-4d12-93ac-e679cf5a0baf",
   "metadata": {},
   "outputs": [],
   "source": [
    "df = pd.merge(df, picks, left_on=[\"Player\", \"Draft Class\"], right_on=[\"pfr_player_name\", \"season\"], how=\"inner\")\n",
    "firstRound = (df['round'] == 1).astype(int)\n",
    "round = df[\"round\"]\n",
    "topRound = (df['round'] <= 3).astype(int)"
   ]
  },
  {
   "cell_type": "code",
   "execution_count": 110,
   "id": "82058e57-e461-4292-a380-af1c995bb487",
   "metadata": {},
   "outputs": [],
   "source": [
    "#use these 2 columns for my testing\n",
    "combined_df = pd.concat([round, topRound], axis=1)\n",
    "combined_df.columns = ['round', 'topRound']"
   ]
  },
  {
   "cell_type": "code",
   "execution_count": 111,
   "id": "9a5613d0-7fcf-4aa8-8a42-c78b3fff66b0",
   "metadata": {},
   "outputs": [
    {
     "name": "stdout",
     "output_type": "stream",
     "text": [
      "Index(['Preprocessed Bio', 'bio_length_normalized', 'sentiments'], dtype='object')\n"
     ]
    }
   ],
   "source": [
    "#columns to drop\n",
    "dropColumns = [\"Player\", \"Draft Class\"] + list(picks.columns)\n",
    "X = df.drop(columns=dropColumns)\n",
    "print(X.columns)"
   ]
  },
  {
   "cell_type": "code",
   "execution_count": 112,
   "id": "f0f4d602-1c91-45e2-b262-7b8a88f047d5",
   "metadata": {},
   "outputs": [
    {
     "data": {
      "text/plain": [
       "round\n",
       "3    372\n",
       "4    349\n",
       "5    341\n",
       "6    339\n",
       "1    306\n",
       "2    305\n",
       "7    291\n",
       "Name: count, dtype: int64"
      ]
     },
     "execution_count": 112,
     "metadata": {},
     "output_type": "execute_result"
    }
   ],
   "source": [
    "round.value_counts()"
   ]
  },
  {
   "cell_type": "code",
   "execution_count": 113,
   "id": "eec06673-da1d-4585-b550-bc65132ec6b4",
   "metadata": {},
   "outputs": [
    {
     "data": {
      "text/plain": [
       "round\n",
       "0    1320\n",
       "1     983\n",
       "Name: count, dtype: int64"
      ]
     },
     "execution_count": 113,
     "metadata": {},
     "output_type": "execute_result"
    }
   ],
   "source": [
    "topRound.value_counts()"
   ]
  },
  {
   "cell_type": "code",
   "execution_count": 114,
   "id": "4d563224-f3be-482c-b2eb-de77ac990e37",
   "metadata": {},
   "outputs": [],
   "source": [
    "#multi-classification now: logistic regression\n",
    "X_train, X_test, y_train, y_test = train_test_split(X, combined_df, test_size=0.2, random_state=42)"
   ]
  },
  {
   "cell_type": "code",
   "execution_count": 115,
   "id": "20c2ac8e-37a6-4920-a06c-76985b9e53ef",
   "metadata": {},
   "outputs": [],
   "source": [
    "#run tfidf\n",
    "train_features, test_features = extract_features(X_train['Preprocessed Bio'], X_test['Preprocessed Bio'])\n",
    "X_train = X_train.drop(columns=[\"Preprocessed Bio\"])\n",
    "X_test = X_test.drop(columns=[\"Preprocessed Bio\"])\n",
    "X_train_df_sparse = csr_matrix(X_train.values)\n",
    "X_test_df_sparse = csr_matrix(X_test.values)\n",
    "\n",
    "#Combine them all now using hstack (sparse matrices now)\n",
    "X_train = hstack([train_features, X_train_df_sparse])\n",
    "X_test = hstack([test_features, X_test_df_sparse])"
   ]
  },
  {
   "cell_type": "code",
   "execution_count": 116,
   "id": "f8b143cd-339f-4d96-bec2-9df574bd2df6",
   "metadata": {},
   "outputs": [],
   "source": [
    "# functiont to print results of the model\n",
    "def resultsDraftRound(model, y_train, y_test):\n",
    "    model.fit(X_train, y_train)\n",
    "\n",
    "    y_test_pred = model.predict(X_test)\n",
    "\n",
    "    confusion = confusion_matrix(y_test, y_test_pred)\n",
    "\n",
    "    # Calculate the macro F1 score\n",
    "    f1 = f1_score(y_test, y_test_pred, average = \"macro\")\n",
    "\n",
    "    # Calculate accuracy\n",
    "    accuracy = accuracy_score(y_test, y_test_pred)\n",
    "\n",
    "    # Print the results\n",
    "    print(\"Confusion Matrix:\")\n",
    "    print(confusion)\n",
    "    print(\"\\nMacro F1 Score:\", f1)\n",
    "    print(\"\\nAccuracy:\", accuracy)"
   ]
  },
  {
   "cell_type": "markdown",
   "id": "40da4839-f54d-4e23-b15f-4c85639fa375",
   "metadata": {},
   "source": [
    "## Multi-Class classification (draft round)"
   ]
  },
  {
   "cell_type": "code",
   "execution_count": 117,
   "id": "5487bb34-12c4-4951-9bad-1d898bfd226e",
   "metadata": {},
   "outputs": [
    {
     "name": "stdout",
     "output_type": "stream",
     "text": [
      "Confusion Matrix:\n",
      "[[31  7 10  5  3  5  1]\n",
      " [28  2 13  1 10  5  4]\n",
      " [ 4  8 26 10 11  6  4]\n",
      " [ 9  1 21 11 14 13  4]\n",
      " [ 6  2 16  7  9  7 13]\n",
      " [ 7  3 16 11 15 12  8]\n",
      " [ 7  1 16  8 11 16  3]]\n",
      "\n",
      "Macro F1 Score: 0.18195249281585815\n",
      "\n",
      "Accuracy: 0.2039045553145336\n"
     ]
    }
   ],
   "source": [
    "logreg = LogisticRegression(multi_class='auto', solver='sag') \n",
    "resultsDraftRound(logreg, y_train[\"round\"], y_test[\"round\"])"
   ]
  },
  {
   "cell_type": "code",
   "execution_count": 118,
   "id": "54200124-c141-47e5-9ec6-a91e86368ec5",
   "metadata": {},
   "outputs": [
    {
     "name": "stdout",
     "output_type": "stream",
     "text": [
      "Confusion Matrix:\n",
      "[[ 6 16  5 11 11  8  5]\n",
      " [ 9  6 16  6 10  9  7]\n",
      " [11  6  9 15 10  7 11]\n",
      " [ 8  9 15  9 11 12  9]\n",
      " [12 12 12  8  9  6  1]\n",
      " [11  7 13 12 14 10  5]\n",
      " [11  4  7 13 12  8  7]]\n",
      "\n",
      "Macro F1 Score: 0.12133549329521558\n",
      "\n",
      "Accuracy: 0.12147505422993492\n"
     ]
    }
   ],
   "source": [
    "#Dummy classifier\n",
    "dummy=DummyClassifier(strategy='stratified')\n",
    "resultsDraftRound(dummy, y_train[\"round\"], y_test[\"round\"])"
   ]
  },
  {
   "cell_type": "code",
   "execution_count": 119,
   "id": "9c55753f-cf8f-49b8-9a01-c4b9a6a580bc",
   "metadata": {},
   "outputs": [
    {
     "name": "stdout",
     "output_type": "stream",
     "text": [
      "Confusion Matrix:\n",
      "[[ 0  0 62  0  0  0  0]\n",
      " [ 0  0 63  0  0  0  0]\n",
      " [ 0  0 69  0  0  0  0]\n",
      " [ 0  0 73  0  0  0  0]\n",
      " [ 0  0 60  0  0  0  0]\n",
      " [ 0  0 72  0  0  0  0]\n",
      " [ 0  0 62  0  0  0  0]]\n",
      "\n",
      "Macro F1 Score: 0.03719676549865229\n",
      "\n",
      "Accuracy: 0.14967462039045554\n"
     ]
    }
   ],
   "source": [
    "#Dummy classifier\n",
    "dummy=DummyClassifier(strategy='most_frequent')\n",
    "resultsDraftRound(dummy, y_train[\"round\"], y_test[\"round\"])"
   ]
  },
  {
   "cell_type": "markdown",
   "id": "20845e13-ffb5-4115-bcd5-7d756bfbca3b",
   "metadata": {},
   "source": [
    "## Binary Classification (top 3 rounds or not)"
   ]
  },
  {
   "cell_type": "code",
   "execution_count": 120,
   "id": "c19ef3bc-93fc-4477-9130-ca4d8389d550",
   "metadata": {},
   "outputs": [
    {
     "name": "stdout",
     "output_type": "stream",
     "text": [
      "Confusion Matrix:\n",
      "[[230  37]\n",
      " [114  80]]\n",
      "\n",
      "Macro F1 Score: 0.6336668052478409\n",
      "\n",
      "Accuracy: 0.6724511930585684\n"
     ]
    }
   ],
   "source": [
    "#logistic regression\n",
    "logreg = LogisticRegression() \n",
    "resultsDraftRound(logreg, y_train[\"topRound\"], y_test[\"topRound\"])"
   ]
  },
  {
   "cell_type": "code",
   "execution_count": 121,
   "id": "b1e606ca-c445-4b28-a147-7cbf383e2fb7",
   "metadata": {},
   "outputs": [
    {
     "name": "stdout",
     "output_type": "stream",
     "text": [
      "Confusion Matrix:\n",
      "[[151 116]\n",
      " [122  72]]\n",
      "\n",
      "Macro F1 Score: 0.4681113050222998\n",
      "\n",
      "Accuracy: 0.4837310195227766\n"
     ]
    }
   ],
   "source": [
    "#both dummy classifiers below\n",
    "dummy=DummyClassifier(strategy='stratified')\n",
    "resultsDraftRound(dummy, y_train[\"topRound\"], y_test[\"topRound\"])"
   ]
  },
  {
   "cell_type": "code",
   "execution_count": 122,
   "id": "0a1b9185-ab11-453a-960e-659253ff36a2",
   "metadata": {},
   "outputs": [
    {
     "name": "stdout",
     "output_type": "stream",
     "text": [
      "Confusion Matrix:\n",
      "[[267   0]\n",
      " [194   0]]\n",
      "\n",
      "Macro F1 Score: 0.3667582417582418\n",
      "\n",
      "Accuracy: 0.579175704989154\n"
     ]
    }
   ],
   "source": [
    "dummy=DummyClassifier(strategy='most_frequent')\n",
    "resultsDraftRound(dummy, y_train[\"topRound\"], y_test[\"topRound\"])"
   ]
  },
  {
   "cell_type": "markdown",
   "id": "62c8490a-788f-46c1-b7aa-644167cbe1f3",
   "metadata": {},
   "source": [
    "# Looking at how HOF status relates to qbs"
   ]
  },
  {
   "cell_type": "code",
   "execution_count": 123,
   "id": "c58507b6-20b7-4250-b3f3-2f068d8ad32d",
   "metadata": {},
   "outputs": [
    {
     "data": {
      "text/html": [
       "<div>\n",
       "<style scoped>\n",
       "    .dataframe tbody tr th:only-of-type {\n",
       "        vertical-align: middle;\n",
       "    }\n",
       "\n",
       "    .dataframe tbody tr th {\n",
       "        vertical-align: top;\n",
       "    }\n",
       "\n",
       "    .dataframe thead th {\n",
       "        text-align: right;\n",
       "    }\n",
       "</style>\n",
       "<table border=\"1\" class=\"dataframe\">\n",
       "  <thead>\n",
       "    <tr style=\"text-align: right;\">\n",
       "      <th></th>\n",
       "      <th>season</th>\n",
       "      <th>round</th>\n",
       "      <th>pick</th>\n",
       "      <th>team</th>\n",
       "      <th>gsis_id</th>\n",
       "      <th>pfr_player_id</th>\n",
       "      <th>cfb_player_id</th>\n",
       "      <th>pfr_player_name</th>\n",
       "      <th>hof</th>\n",
       "      <th>position</th>\n",
       "      <th>...</th>\n",
       "      <th>pass_ints</th>\n",
       "      <th>rush_atts</th>\n",
       "      <th>rush_yards</th>\n",
       "      <th>rush_tds</th>\n",
       "      <th>receptions</th>\n",
       "      <th>rec_yards</th>\n",
       "      <th>rec_tds</th>\n",
       "      <th>def_solo_tackles</th>\n",
       "      <th>def_ints</th>\n",
       "      <th>def_sacks</th>\n",
       "    </tr>\n",
       "  </thead>\n",
       "  <tbody>\n",
       "    <tr>\n",
       "      <th>0</th>\n",
       "      <td>1980</td>\n",
       "      <td>1</td>\n",
       "      <td>1</td>\n",
       "      <td>DET</td>\n",
       "      <td></td>\n",
       "      <td>SimsBi00</td>\n",
       "      <td>billy-sims-1</td>\n",
       "      <td>Billy Sims</td>\n",
       "      <td>False</td>\n",
       "      <td>RB</td>\n",
       "      <td>...</td>\n",
       "      <td>0.0</td>\n",
       "      <td>1131.0</td>\n",
       "      <td>5106.0</td>\n",
       "      <td>42.0</td>\n",
       "      <td>186.0</td>\n",
       "      <td>2072.0</td>\n",
       "      <td>5.0</td>\n",
       "      <td>NaN</td>\n",
       "      <td>NaN</td>\n",
       "      <td>NaN</td>\n",
       "    </tr>\n",
       "    <tr>\n",
       "      <th>1</th>\n",
       "      <td>1980</td>\n",
       "      <td>1</td>\n",
       "      <td>2</td>\n",
       "      <td>NYJ</td>\n",
       "      <td></td>\n",
       "      <td>JoneLa00</td>\n",
       "      <td>lam-jones-1</td>\n",
       "      <td>Lam Jones</td>\n",
       "      <td>False</td>\n",
       "      <td>WR</td>\n",
       "      <td>...</td>\n",
       "      <td>0.0</td>\n",
       "      <td>9.0</td>\n",
       "      <td>17.0</td>\n",
       "      <td>0.0</td>\n",
       "      <td>138.0</td>\n",
       "      <td>2322.0</td>\n",
       "      <td>13.0</td>\n",
       "      <td>NaN</td>\n",
       "      <td>NaN</td>\n",
       "      <td>NaN</td>\n",
       "    </tr>\n",
       "    <tr>\n",
       "      <th>2</th>\n",
       "      <td>1980</td>\n",
       "      <td>1</td>\n",
       "      <td>3</td>\n",
       "      <td>CIN</td>\n",
       "      <td></td>\n",
       "      <td>MunoAn00</td>\n",
       "      <td></td>\n",
       "      <td>Anthony Munoz</td>\n",
       "      <td>True</td>\n",
       "      <td>T</td>\n",
       "      <td>...</td>\n",
       "      <td>0.0</td>\n",
       "      <td>0.0</td>\n",
       "      <td>0.0</td>\n",
       "      <td>0.0</td>\n",
       "      <td>7.0</td>\n",
       "      <td>18.0</td>\n",
       "      <td>4.0</td>\n",
       "      <td>NaN</td>\n",
       "      <td>NaN</td>\n",
       "      <td>NaN</td>\n",
       "    </tr>\n",
       "    <tr>\n",
       "      <th>3</th>\n",
       "      <td>1980</td>\n",
       "      <td>1</td>\n",
       "      <td>4</td>\n",
       "      <td>GNB</td>\n",
       "      <td></td>\n",
       "      <td>ClarBr23</td>\n",
       "      <td>bruce-clark-1</td>\n",
       "      <td>Bruce Clark</td>\n",
       "      <td>False</td>\n",
       "      <td>DE</td>\n",
       "      <td>...</td>\n",
       "      <td>0.0</td>\n",
       "      <td>0.0</td>\n",
       "      <td>0.0</td>\n",
       "      <td>0.0</td>\n",
       "      <td>0.0</td>\n",
       "      <td>0.0</td>\n",
       "      <td>0.0</td>\n",
       "      <td>NaN</td>\n",
       "      <td>1.0</td>\n",
       "      <td>39.5</td>\n",
       "    </tr>\n",
       "    <tr>\n",
       "      <th>4</th>\n",
       "      <td>1980</td>\n",
       "      <td>1</td>\n",
       "      <td>5</td>\n",
       "      <td>BAL</td>\n",
       "      <td></td>\n",
       "      <td>DickCu00</td>\n",
       "      <td>curtis-dickey-1</td>\n",
       "      <td>Curtis Dickey</td>\n",
       "      <td>False</td>\n",
       "      <td>RB</td>\n",
       "      <td>...</td>\n",
       "      <td>0.0</td>\n",
       "      <td>937.0</td>\n",
       "      <td>4019.0</td>\n",
       "      <td>32.0</td>\n",
       "      <td>134.0</td>\n",
       "      <td>1577.0</td>\n",
       "      <td>8.0</td>\n",
       "      <td>NaN</td>\n",
       "      <td>NaN</td>\n",
       "      <td>NaN</td>\n",
       "    </tr>\n",
       "    <tr>\n",
       "      <th>...</th>\n",
       "      <td>...</td>\n",
       "      <td>...</td>\n",
       "      <td>...</td>\n",
       "      <td>...</td>\n",
       "      <td>...</td>\n",
       "      <td>...</td>\n",
       "      <td>...</td>\n",
       "      <td>...</td>\n",
       "      <td>...</td>\n",
       "      <td>...</td>\n",
       "      <td>...</td>\n",
       "      <td>...</td>\n",
       "      <td>...</td>\n",
       "      <td>...</td>\n",
       "      <td>...</td>\n",
       "      <td>...</td>\n",
       "      <td>...</td>\n",
       "      <td>...</td>\n",
       "      <td>...</td>\n",
       "      <td>...</td>\n",
       "      <td>...</td>\n",
       "    </tr>\n",
       "    <tr>\n",
       "      <th>12151</th>\n",
       "      <td>2023</td>\n",
       "      <td>7</td>\n",
       "      <td>255</td>\n",
       "      <td>SFO</td>\n",
       "      <td>None</td>\n",
       "      <td>GrahJa02</td>\n",
       "      <td>jalen-graham-1</td>\n",
       "      <td>Jalen Graham</td>\n",
       "      <td>False</td>\n",
       "      <td>SAF</td>\n",
       "      <td>...</td>\n",
       "      <td>NaN</td>\n",
       "      <td>NaN</td>\n",
       "      <td>NaN</td>\n",
       "      <td>NaN</td>\n",
       "      <td>NaN</td>\n",
       "      <td>NaN</td>\n",
       "      <td>NaN</td>\n",
       "      <td>NaN</td>\n",
       "      <td>NaN</td>\n",
       "      <td>NaN</td>\n",
       "    </tr>\n",
       "    <tr>\n",
       "      <th>12152</th>\n",
       "      <td>2023</td>\n",
       "      <td>7</td>\n",
       "      <td>256</td>\n",
       "      <td>GNB</td>\n",
       "      <td>None</td>\n",
       "      <td>DuboGr00</td>\n",
       "      <td>None</td>\n",
       "      <td>Grant Dubose</td>\n",
       "      <td>False</td>\n",
       "      <td>WR</td>\n",
       "      <td>...</td>\n",
       "      <td>NaN</td>\n",
       "      <td>NaN</td>\n",
       "      <td>NaN</td>\n",
       "      <td>NaN</td>\n",
       "      <td>NaN</td>\n",
       "      <td>NaN</td>\n",
       "      <td>NaN</td>\n",
       "      <td>NaN</td>\n",
       "      <td>NaN</td>\n",
       "      <td>NaN</td>\n",
       "    </tr>\n",
       "    <tr>\n",
       "      <th>12153</th>\n",
       "      <td>2023</td>\n",
       "      <td>7</td>\n",
       "      <td>257</td>\n",
       "      <td>DEN</td>\n",
       "      <td>None</td>\n",
       "      <td>ForsAl00</td>\n",
       "      <td>alex-forsyth-1</td>\n",
       "      <td>Alex Forsyth</td>\n",
       "      <td>False</td>\n",
       "      <td>OL</td>\n",
       "      <td>...</td>\n",
       "      <td>NaN</td>\n",
       "      <td>NaN</td>\n",
       "      <td>NaN</td>\n",
       "      <td>NaN</td>\n",
       "      <td>NaN</td>\n",
       "      <td>NaN</td>\n",
       "      <td>NaN</td>\n",
       "      <td>NaN</td>\n",
       "      <td>NaN</td>\n",
       "      <td>NaN</td>\n",
       "    </tr>\n",
       "    <tr>\n",
       "      <th>12154</th>\n",
       "      <td>2023</td>\n",
       "      <td>7</td>\n",
       "      <td>258</td>\n",
       "      <td>CHI</td>\n",
       "      <td>None</td>\n",
       "      <td>WillKe07</td>\n",
       "      <td>None</td>\n",
       "      <td>Kendall Williamson</td>\n",
       "      <td>False</td>\n",
       "      <td>SAF</td>\n",
       "      <td>...</td>\n",
       "      <td>NaN</td>\n",
       "      <td>NaN</td>\n",
       "      <td>NaN</td>\n",
       "      <td>NaN</td>\n",
       "      <td>NaN</td>\n",
       "      <td>NaN</td>\n",
       "      <td>NaN</td>\n",
       "      <td>NaN</td>\n",
       "      <td>NaN</td>\n",
       "      <td>NaN</td>\n",
       "    </tr>\n",
       "    <tr>\n",
       "      <th>12155</th>\n",
       "      <td>2023</td>\n",
       "      <td>7</td>\n",
       "      <td>259</td>\n",
       "      <td>LAR</td>\n",
       "      <td>None</td>\n",
       "      <td>JohnDe08</td>\n",
       "      <td>desjuan-johnson-1</td>\n",
       "      <td>Desjuan Johnson</td>\n",
       "      <td>False</td>\n",
       "      <td>DT</td>\n",
       "      <td>...</td>\n",
       "      <td>NaN</td>\n",
       "      <td>NaN</td>\n",
       "      <td>NaN</td>\n",
       "      <td>NaN</td>\n",
       "      <td>NaN</td>\n",
       "      <td>NaN</td>\n",
       "      <td>NaN</td>\n",
       "      <td>NaN</td>\n",
       "      <td>NaN</td>\n",
       "      <td>NaN</td>\n",
       "    </tr>\n",
       "  </tbody>\n",
       "</table>\n",
       "<p>12156 rows × 36 columns</p>\n",
       "</div>"
      ],
      "text/plain": [
       "       season  round  pick team gsis_id pfr_player_id      cfb_player_id  \\\n",
       "0        1980      1     1  DET              SimsBi00       billy-sims-1   \n",
       "1        1980      1     2  NYJ              JoneLa00        lam-jones-1   \n",
       "2        1980      1     3  CIN              MunoAn00                      \n",
       "3        1980      1     4  GNB              ClarBr23      bruce-clark-1   \n",
       "4        1980      1     5  BAL              DickCu00    curtis-dickey-1   \n",
       "...       ...    ...   ...  ...     ...           ...                ...   \n",
       "12151    2023      7   255  SFO    None      GrahJa02     jalen-graham-1   \n",
       "12152    2023      7   256  GNB    None      DuboGr00               None   \n",
       "12153    2023      7   257  DEN    None      ForsAl00     alex-forsyth-1   \n",
       "12154    2023      7   258  CHI    None      WillKe07               None   \n",
       "12155    2023      7   259  LAR    None      JohnDe08  desjuan-johnson-1   \n",
       "\n",
       "          pfr_player_name    hof position  ... pass_ints rush_atts rush_yards  \\\n",
       "0              Billy Sims  False       RB  ...       0.0    1131.0     5106.0   \n",
       "1               Lam Jones  False       WR  ...       0.0       9.0       17.0   \n",
       "2           Anthony Munoz   True        T  ...       0.0       0.0        0.0   \n",
       "3             Bruce Clark  False       DE  ...       0.0       0.0        0.0   \n",
       "4           Curtis Dickey  False       RB  ...       0.0     937.0     4019.0   \n",
       "...                   ...    ...      ...  ...       ...       ...        ...   \n",
       "12151        Jalen Graham  False      SAF  ...       NaN       NaN        NaN   \n",
       "12152        Grant Dubose  False       WR  ...       NaN       NaN        NaN   \n",
       "12153        Alex Forsyth  False       OL  ...       NaN       NaN        NaN   \n",
       "12154  Kendall Williamson  False      SAF  ...       NaN       NaN        NaN   \n",
       "12155     Desjuan Johnson  False       DT  ...       NaN       NaN        NaN   \n",
       "\n",
       "       rush_tds  receptions  rec_yards  rec_tds  def_solo_tackles  def_ints  \\\n",
       "0          42.0       186.0     2072.0      5.0               NaN       NaN   \n",
       "1           0.0       138.0     2322.0     13.0               NaN       NaN   \n",
       "2           0.0         7.0       18.0      4.0               NaN       NaN   \n",
       "3           0.0         0.0        0.0      0.0               NaN       1.0   \n",
       "4          32.0       134.0     1577.0      8.0               NaN       NaN   \n",
       "...         ...         ...        ...      ...               ...       ...   \n",
       "12151       NaN         NaN        NaN      NaN               NaN       NaN   \n",
       "12152       NaN         NaN        NaN      NaN               NaN       NaN   \n",
       "12153       NaN         NaN        NaN      NaN               NaN       NaN   \n",
       "12154       NaN         NaN        NaN      NaN               NaN       NaN   \n",
       "12155       NaN         NaN        NaN      NaN               NaN       NaN   \n",
       "\n",
       "       def_sacks  \n",
       "0            NaN  \n",
       "1            NaN  \n",
       "2            NaN  \n",
       "3           39.5  \n",
       "4            NaN  \n",
       "...          ...  \n",
       "12151        NaN  \n",
       "12152        NaN  \n",
       "12153        NaN  \n",
       "12154        NaN  \n",
       "12155        NaN  \n",
       "\n",
       "[12156 rows x 36 columns]"
      ]
     },
     "execution_count": 123,
     "metadata": {},
     "output_type": "execute_result"
    }
   ],
   "source": [
    "picks"
   ]
  },
  {
   "cell_type": "code",
   "execution_count": 124,
   "id": "d44b0c9f-31e1-4ccf-9912-2f919721e723",
   "metadata": {},
   "outputs": [],
   "source": [
    "qbs = picks[picks['position'] == 'QB']\n",
    "\n",
    "#remove players who have not retired yet\n",
    "qbs = qbs[qbs['season'] < 2000] #this is for year they were drafted"
   ]
  },
  {
   "cell_type": "code",
   "execution_count": 125,
   "id": "d2963d9f-bce0-4a1e-9ab8-6e65613eb274",
   "metadata": {},
   "outputs": [
    {
     "data": {
      "text/plain": [
       "hof\n",
       "False    273\n",
       "True       6\n",
       "Name: count, dtype: int64"
      ]
     },
     "execution_count": 125,
     "metadata": {},
     "output_type": "execute_result"
    }
   ],
   "source": [
    "qbs['hof'].value_counts()"
   ]
  },
  {
   "cell_type": "code",
   "execution_count": 126,
   "id": "f093c22a-dcf1-4a04-9fe0-6cd5c90f1b70",
   "metadata": {},
   "outputs": [
    {
     "data": {
      "text/plain": [
       "14       86.0\n",
       "27       60.0\n",
       "36        0.0\n",
       "84       55.0\n",
       "88        1.0\n",
       "        ...  \n",
       "5903    123.0\n",
       "5923      0.0\n",
       "5999      1.0\n",
       "6011      1.0\n",
       "6017      0.0\n",
       "Name: pass_tds, Length: 279, dtype: float64"
      ]
     },
     "execution_count": 126,
     "metadata": {},
     "output_type": "execute_result"
    }
   ],
   "source": [
    "qbs['hof'] = qbs['hof'].astype(int)\n",
    "\n",
    "#Fill Null values of total touchdown passes\n",
    "qbs['pass_tds'].fillna(0, inplace=True)\n",
    "qbs['pass_tds']"
   ]
  },
  {
   "cell_type": "code",
   "execution_count": 127,
   "id": "162eebf7-e772-44e3-8877-52d63c7fbf57",
   "metadata": {},
   "outputs": [
    {
     "name": "stderr",
     "output_type": "stream",
     "text": [
      "/Users/charliemorris/opt/anaconda3/lib/python3.9/site-packages/seaborn/_core.py:1225: FutureWarning: is_categorical_dtype is deprecated and will be removed in a future version. Use isinstance(dtype, CategoricalDtype) instead\n",
      "  if pd.api.types.is_categorical_dtype(vector):\n",
      "/Users/charliemorris/opt/anaconda3/lib/python3.9/site-packages/seaborn/_core.py:1225: FutureWarning: is_categorical_dtype is deprecated and will be removed in a future version. Use isinstance(dtype, CategoricalDtype) instead\n",
      "  if pd.api.types.is_categorical_dtype(vector):\n",
      "/Users/charliemorris/opt/anaconda3/lib/python3.9/site-packages/seaborn/_core.py:1225: FutureWarning: is_categorical_dtype is deprecated and will be removed in a future version. Use isinstance(dtype, CategoricalDtype) instead\n",
      "  if pd.api.types.is_categorical_dtype(vector):\n"
     ]
    },
    {
     "data": {
      "image/png": "[encoded data removed]",
      "text/plain": [
       "<Figure size 432x288 with 1 Axes>"
      ]
     },
     "metadata": {
      "needs_background": "light"
     },
     "output_type": "display_data"
    }
   ],
   "source": [
    "sns.countplot(x='hof', data = qbs, palette='hls')\n",
    "plt.show()"
   ]
  },
  {
   "cell_type": "code",
   "execution_count": 128,
   "id": "db150b2f-9746-4bdc-8aa0-c796e1d75c01",
   "metadata": {},
   "outputs": [
    {
     "name": "stderr",
     "output_type": "stream",
     "text": [
      "/Users/charliemorris/opt/anaconda3/lib/python3.9/site-packages/seaborn/_core.py:1225: FutureWarning: is_categorical_dtype is deprecated and will be removed in a future version. Use isinstance(dtype, CategoricalDtype) instead\n",
      "  if pd.api.types.is_categorical_dtype(vector):\n",
      "/Users/charliemorris/opt/anaconda3/lib/python3.9/site-packages/seaborn/_core.py:1225: FutureWarning: is_categorical_dtype is deprecated and will be removed in a future version. Use isinstance(dtype, CategoricalDtype) instead\n",
      "  if pd.api.types.is_categorical_dtype(vector):\n"
     ]
    },
    {
     "data": {
      "image/png": "[encoded data removed]",
      "text/plain": [
       "<Figure size 432x288 with 1 Axes>"
      ]
     },
     "metadata": {
      "needs_background": "light"
     },
     "output_type": "display_data"
    }
   ],
   "source": [
    "#Scatterplot of hall of fame status vs. total touchdowns\n",
    "sns.scatterplot(y=\"hof\", x = \"pass_tds\", data = qbs)\n",
    "plt.show()"
   ]
  },
  {
   "cell_type": "code",
   "execution_count": 129,
   "id": "40435979-a980-462d-ab64-2e5c89f6b733",
   "metadata": {},
   "outputs": [
    {
     "name": "stdout",
     "output_type": "stream",
     "text": [
      "Accuracy: 0.99\n",
      "              precision    recall  f1-score   support\n",
      "\n",
      "           0       0.99      1.00      1.00       273\n",
      "           1       1.00      0.67      0.80         6\n",
      "\n",
      "    accuracy                           0.99       279\n",
      "   macro avg       1.00      0.83      0.90       279\n",
      "weighted avg       0.99      0.99      0.99       279\n",
      "\n"
     ]
    }
   ],
   "source": [
    "#Run logistic regression\n",
    "#test on itself\n",
    "\n",
    "X = qbs[['pass_tds']]\n",
    "y = qbs['hof']\n",
    "\n",
    "# Initialize the logistic regression model\n",
    "model = LogisticRegression()\n",
    "\n",
    "# Train the model on the training data\n",
    "model.fit(X, y)\n",
    "\n",
    "# Make predictions on the test data\n",
    "y_pred = model.predict(X)\n",
    "\n",
    "# Evaluate the model's accuracy\n",
    "accuracy = accuracy_score(y, y_pred)\n",
    "print(f\"Accuracy: {accuracy:.2f}\")\n",
    "\n",
    "# Print classification report\n",
    "print(classification_report(y, y_pred))"
   ]
  },
  {
   "cell_type": "code",
   "execution_count": 130,
   "id": "053e5434-d641-420a-80c3-ebed6a4c846e",
   "metadata": {},
   "outputs": [
    {
     "name": "stderr",
     "output_type": "stream",
     "text": [
      "/Users/charliemorris/opt/anaconda3/lib/python3.9/site-packages/sklearn/base.py:465: UserWarning: X does not have valid feature names, but LogisticRegression was fitted with feature names\n",
      "  warnings.warn(\n"
     ]
    },
    {
     "data": {
      "image/png": "[encoded data removed]",
      "text/plain": [
       "<Figure size 432x288 with 1 Axes>"
      ]
     },
     "metadata": {
      "needs_background": "light"
     },
     "output_type": "display_data"
    }
   ],
   "source": [
    "# Plot the data points and decision boundary\n",
    "plt.scatter(X, y, color='blue', label='True Class')\n",
    "plt.scatter(X, y_pred, color='red', marker='x', label='Predicted Class')\n",
    "plt.xlabel('pass_tds')\n",
    "plt.ylabel('hof')\n",
    "plt.legend()\n",
    "\n",
    "# Create a range of values for the x-axis\n",
    "x_range = np.linspace(X.min(), X.max(), num=100)\n",
    "# Calculate the corresponding y-values using the logistic regression model's decision boundary\n",
    "y_range = model.predict_proba(x_range.reshape(-1, 1))[:, 1]\n",
    "\n",
    "# Plot the decision boundary\n",
    "plt.plot(x_range, y_range, color='green', label='Decision Boundary')\n",
    "plt.legend()\n",
    "\n",
    "plt.show()\n"
   ]
  },
  {
   "cell_type": "code",
   "execution_count": 131,
   "id": "829e7b59-43c3-4dac-a730-64163ab307e1",
   "metadata": {},
   "outputs": [
    {
     "data": {
      "text/html": [
       "<div>\n",
       "<style scoped>\n",
       "    .dataframe tbody tr th:only-of-type {\n",
       "        vertical-align: middle;\n",
       "    }\n",
       "\n",
       "    .dataframe tbody tr th {\n",
       "        vertical-align: top;\n",
       "    }\n",
       "\n",
       "    .dataframe thead th {\n",
       "        text-align: right;\n",
       "    }\n",
       "</style>\n",
       "<table border=\"1\" class=\"dataframe\">\n",
       "  <thead>\n",
       "    <tr style=\"text-align: right;\">\n",
       "      <th></th>\n",
       "      <th>season</th>\n",
       "      <th>pfr_player_name</th>\n",
       "      <th>pass_ints</th>\n",
       "      <th>pass_yards</th>\n",
       "      <th>pass_tds</th>\n",
       "      <th>allpro</th>\n",
       "      <th>probowls</th>\n",
       "      <th>seasons_started</th>\n",
       "    </tr>\n",
       "  </thead>\n",
       "  <tbody>\n",
       "    <tr>\n",
       "      <th>3007</th>\n",
       "      <td>1989</td>\n",
       "      <td>Troy Aikman</td>\n",
       "      <td>141.0</td>\n",
       "      <td>32942.0</td>\n",
       "      <td>165.0</td>\n",
       "      <td>0</td>\n",
       "      <td>6</td>\n",
       "      <td>12</td>\n",
       "    </tr>\n",
       "    <tr>\n",
       "      <th>1012</th>\n",
       "      <td>1983</td>\n",
       "      <td>Jim Kelly</td>\n",
       "      <td>175.0</td>\n",
       "      <td>35467.0</td>\n",
       "      <td>237.0</td>\n",
       "      <td>1</td>\n",
       "      <td>5</td>\n",
       "      <td>11</td>\n",
       "    </tr>\n",
       "    <tr>\n",
       "      <th>999</th>\n",
       "      <td>1983</td>\n",
       "      <td>John Elway</td>\n",
       "      <td>226.0</td>\n",
       "      <td>51475.0</td>\n",
       "      <td>300.0</td>\n",
       "      <td>0</td>\n",
       "      <td>9</td>\n",
       "      <td>16</td>\n",
       "    </tr>\n",
       "    <tr>\n",
       "      <th>1025</th>\n",
       "      <td>1983</td>\n",
       "      <td>Dan Marino</td>\n",
       "      <td>252.0</td>\n",
       "      <td>61361.0</td>\n",
       "      <td>420.0</td>\n",
       "      <td>3</td>\n",
       "      <td>9</td>\n",
       "      <td>16</td>\n",
       "    </tr>\n",
       "    <tr>\n",
       "      <th>3705</th>\n",
       "      <td>1991</td>\n",
       "      <td>Brett Favre</td>\n",
       "      <td>336.0</td>\n",
       "      <td>71838.0</td>\n",
       "      <td>508.0</td>\n",
       "      <td>3</td>\n",
       "      <td>11</td>\n",
       "      <td>19</td>\n",
       "    </tr>\n",
       "    <tr>\n",
       "      <th>5532</th>\n",
       "      <td>1998</td>\n",
       "      <td>Peyton Manning</td>\n",
       "      <td>251.0</td>\n",
       "      <td>71940.0</td>\n",
       "      <td>539.0</td>\n",
       "      <td>7</td>\n",
       "      <td>14</td>\n",
       "      <td>17</td>\n",
       "    </tr>\n",
       "  </tbody>\n",
       "</table>\n",
       "</div>"
      ],
      "text/plain": [
       "      season pfr_player_name  pass_ints  pass_yards  pass_tds  allpro  \\\n",
       "3007    1989     Troy Aikman      141.0     32942.0     165.0       0   \n",
       "1012    1983       Jim Kelly      175.0     35467.0     237.0       1   \n",
       "999     1983      John Elway      226.0     51475.0     300.0       0   \n",
       "1025    1983      Dan Marino      252.0     61361.0     420.0       3   \n",
       "3705    1991     Brett Favre      336.0     71838.0     508.0       3   \n",
       "5532    1998  Peyton Manning      251.0     71940.0     539.0       7   \n",
       "\n",
       "      probowls  seasons_started  \n",
       "3007         6               12  \n",
       "1012         5               11  \n",
       "999          9               16  \n",
       "1025         9               16  \n",
       "3705        11               19  \n",
       "5532        14               17  "
      ]
     },
     "execution_count": 131,
     "metadata": {},
     "output_type": "execute_result"
    }
   ],
   "source": [
    "#Who were the exceptions\n",
    "hofers = qbs[qbs['hof'] == 1]\n",
    "hofers[['season', 'pfr_player_name', 'pass_ints', 'pass_yards', 'pass_tds', 'allpro', 'probowls', 'seasons_started']].sort_values('pass_tds')"
   ]
  },
  {
   "cell_type": "markdown",
   "id": "753a9e32-4c46-4cf8-a864-165d170c8d1b",
   "metadata": {},
   "source": [
    "So Troy Aikman and Jim Kelly made the Hall of Fame as quarterbacks, but seem to be the less deserving, particularly Troy Aikman"
   ]
  },
  {
   "cell_type": "code",
   "execution_count": null,
   "id": "604436ec-c78c-4d99-84fd-3e8458acb5c2",
   "metadata": {},
   "outputs": [],
   "source": []
  }
 ],
 "metadata": {
  "kernelspec": {
   "display_name": "Python 3 (ipykernel)",
   "language": "python",
   "name": "python3"
  },
  "language_info": {
   "codemirror_mode": {
    "name": "ipython",
    "version": 3
   },
   "file_extension": ".py",
   "mimetype": "text/x-python",
   "name": "python",
   "nbconvert_exporter": "python",
   "pygments_lexer": "ipython3",
   "version": "3.9.12"
  }
 },
 "nbformat": 4,
 "nbformat_minor": 5
}
